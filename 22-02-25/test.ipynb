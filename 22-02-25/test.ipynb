{
 "cells": [
  {
   "cell_type": "code",
   "execution_count": 2,
   "id": "5524d851",
   "metadata": {},
   "outputs": [
    {
     "name": "stdout",
     "output_type": "stream",
     "text": [
      "helloworld\n"
     ]
    }
   ],
   "source": [
    "a=\"hello\"\n",
    "c=a+\"world\"\n",
    "print(c)"
   ]
  },
  {
   "cell_type": "code",
   "execution_count": 4,
   "id": "cf7570f2",
   "metadata": {},
   "outputs": [
    {
     "data": {
      "text/html": [
       "<div>\n",
       "<style scoped>\n",
       "    .dataframe tbody tr th:only-of-type {\n",
       "        vertical-align: middle;\n",
       "    }\n",
       "\n",
       "    .dataframe tbody tr th {\n",
       "        vertical-align: top;\n",
       "    }\n",
       "\n",
       "    .dataframe thead th {\n",
       "        text-align: right;\n",
       "    }\n",
       "</style>\n",
       "<table border=\"1\" class=\"dataframe\">\n",
       "  <thead>\n",
       "    <tr style=\"text-align: right;\">\n",
       "      <th></th>\n",
       "      <th>Dealer_ID</th>\n",
       "      <th>Product_ID</th>\n",
       "      <th>Date</th>\n",
       "      <th>Quantity</th>\n",
       "      <th>Consumption</th>\n",
       "      <th>Location</th>\n",
       "    </tr>\n",
       "  </thead>\n",
       "  <tbody>\n",
       "    <tr>\n",
       "      <th>0</th>\n",
       "      <td>D000</td>\n",
       "      <td>P000</td>\n",
       "      <td>2022-01-01</td>\n",
       "      <td>62.0</td>\n",
       "      <td>8.0</td>\n",
       "      <td>Chicago</td>\n",
       "    </tr>\n",
       "    <tr>\n",
       "      <th>1</th>\n",
       "      <td>D000</td>\n",
       "      <td>P000</td>\n",
       "      <td>2022-01-02</td>\n",
       "      <td>70.0</td>\n",
       "      <td>9.0</td>\n",
       "      <td>Chicago</td>\n",
       "    </tr>\n",
       "    <tr>\n",
       "      <th>2</th>\n",
       "      <td>D000</td>\n",
       "      <td>P000</td>\n",
       "      <td>2022-01-03</td>\n",
       "      <td>12.0</td>\n",
       "      <td>17.0</td>\n",
       "      <td>Los Angeles</td>\n",
       "    </tr>\n",
       "    <tr>\n",
       "      <th>3</th>\n",
       "      <td>D000</td>\n",
       "      <td>P000</td>\n",
       "      <td>2022-01-04</td>\n",
       "      <td>74.0</td>\n",
       "      <td>13.0</td>\n",
       "      <td>Los Angeles</td>\n",
       "    </tr>\n",
       "    <tr>\n",
       "      <th>4</th>\n",
       "      <td>D000</td>\n",
       "      <td>P000</td>\n",
       "      <td>2022-01-05</td>\n",
       "      <td>57.0</td>\n",
       "      <td>10.0</td>\n",
       "      <td>Los Angeles</td>\n",
       "    </tr>\n",
       "  </tbody>\n",
       "</table>\n",
       "</div>"
      ],
      "text/plain": [
       "  Dealer_ID Product_ID        Date  Quantity  Consumption     Location\n",
       "0      D000       P000  2022-01-01      62.0          8.0      Chicago\n",
       "1      D000       P000  2022-01-02      70.0          9.0      Chicago\n",
       "2      D000       P000  2022-01-03      12.0         17.0  Los Angeles\n",
       "3      D000       P000  2022-01-04      74.0         13.0  Los Angeles\n",
       "4      D000       P000  2022-01-05      57.0         10.0  Los Angeles"
      ]
     },
     "execution_count": 4,
     "metadata": {},
     "output_type": "execute_result"
    }
   ],
   "source": [
    "import pandas as pd\n",
    "data=pd.read_csv(\"C:\\\\Users\\\\CVR\\\\Desktop\\\\22-6685\\\\corepythonproject\\\\21-02-25\\\\inventory_data_noisy.csv\")\n",
    "data.head()"
   ]
  },
  {
   "cell_type": "code",
   "execution_count": 16,
   "id": "6556d28f",
   "metadata": {},
   "outputs": [
    {
     "name": "stdout",
     "output_type": "stream",
     "text": [
      "Invalid Dates Found:\n",
      "      Dealer_ID Product_ID        Date  Quantity  Consumption     Location\n",
      "58         D000       P000  2022-02-29      93.0          7.0     New York\n",
      "59         D000       P000  2022-02-30      51.0         12.0     New York\n",
      "148        D000       P001  2022-02-29      31.0         10.0     New York\n",
      "149        D000       P001  2022-02-30      84.0         14.0  Los Angeles\n",
      "238        D000       P002  2022-02-29      35.0          6.0  Los Angeles\n",
      "...         ...        ...         ...       ...          ...          ...\n",
      "18243      D006       P011  2022-02-29      79.0         10.0      Chicago\n",
      "18253      D008       P013  2022-02-29       NaN          NaN          NaN\n",
      "18286      D000       P000  2022-02-30      51.0         12.0     New York\n",
      "18312      D000       P019  2022-02-30      41.0         13.0  Los Angeles\n",
      "18332      D004       P018  2022-02-29      14.0          8.0      Chicago\n",
      "\n",
      "[410 rows x 6 columns]\n"
     ]
    },
    {
     "data": {
      "image/png": "[encoded data removed]",
      "text/plain": [
       "<Figure size 640x480 with 2 Axes>"
      ]
     },
     "metadata": {},
     "output_type": "display_data"
    }
   ],
   "source": [
    "import pandas as pd\n",
    "import seaborn as sns\n",
    "import matplotlib.pyplot as plt\n",
    "file_path = 'C:\\\\Users\\\\CVR\\\\Desktop\\\\22-6685\\\\corepythonproject\\\\21-02-25\\\\inventory_data_noisy.csv'\n",
    "df = pd.read_csv(file_path)\n",
    "invalid_dates = df[~df['Date'].apply(pd.to_datetime, errors='coerce').notna()]\n",
    "print(\"Invalid Dates Found:\")\n",
    "print(invalid_dates)\n",
    "df = df[pd.to_datetime(df['Date'], errors='coerce').notna()]\n",
    "df['Date'] = pd.to_datetime(df['Date'])\n",
    "numerical_cols = df[['Quantity', 'Consumption']]\n",
    "correlation_matrix = numerical_cols.corr().round(2)\n",
    "sns.heatmap(correlation_matrix, annot=True, cmap=\"coolwarm\")\n",
    "plt.show()\n"
   ]
  }
 ],
 "metadata": {
  "kernelspec": {
   "display_name": "Python 3 (ipykernel)",
   "language": "python",
   "name": "python3"
  },
  "language_info": {
   "codemirror_mode": {
    "name": "ipython",
    "version": 3
   },
   "file_extension": ".py",
   "mimetype": "text/x-python",
   "name": "python",
   "nbconvert_exporter": "python",
   "pygments_lexer": "ipython3",
   "version": "3.11.5"
  }
 },
 "nbformat": 4,
 "nbformat_minor": 5
}

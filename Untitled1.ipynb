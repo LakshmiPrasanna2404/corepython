{
 "cells": [
  {
   "cell_type": "code",
   "execution_count": 2,
   "id": "1b933395",
   "metadata": {},
   "outputs": [
    {
     "name": "stdout",
     "output_type": "stream",
     "text": [
      "Enter your password:GHHDSJ@1235667\n",
      "Use atleast one lowercase letter\n"
     ]
    }
   ],
   "source": [
    "def check_pass(password):\n",
    "    if len(password)<10:\n",
    "        return \"Pwd should comtain min 10 characters\"\n",
    "    elif len(password)>15:\n",
    "        return \"Pwd should comtain max 15 characters\"\n",
    "    elif not any(char.isupper() for char in password):\n",
    "        return \"Use atleast one uppercase letter\"\n",
    "    elif not any(char.islower() for char in password):\n",
    "        return \"Use atleast one lowercase letter\"\n",
    "    elif not any(char.isdigit() for char in password):\n",
    "        return \"Use atleast one digit\"\n",
    "    elif not any(char in \"$@*#\" for char in password):\n",
    "        return \"Use at least one special character ($, @, #, or *).\"\n",
    "    elif \" \" in password:\n",
    "        return \"Password should not contain spaces.\"\n",
    "    elif password.endswith(('.', '@')):\n",
    "        return \"Password should not end with '.' or '@'.\"\n",
    "    return \"Password is valid.\"\n",
    "password=input(\"Enter your password:\")\n",
    "print(check_pass(password))"
   ]
  },
  {
   "cell_type": "code",
   "execution_count": 3,
   "id": "89b9bab0",
   "metadata": {},
   "outputs": [
    {
     "name": "stdout",
     "output_type": "stream",
     "text": [
      "The factorial of 5 is 120\n"
     ]
    }
   ],
   "source": [
    "def factorial(n):\n",
    "    if n == 0 or n == 1:\n",
    "        return 1\n",
    "    else:\n",
    "        return n * factorial(n - 1)\n",
    "num = 5\n",
    "print(f\"The factorial of {num} is {factorial(num)}\")\n"
   ]
  },
  {
   "cell_type": "code",
   "execution_count": 4,
   "id": "888fe009",
   "metadata": {},
   "outputs": [
    {
     "name": "stdout",
     "output_type": "stream",
     "text": [
      "Enter a number: 5\n",
      "5 is a prime number.\n"
     ]
    }
   ],
   "source": [
    "def is_prime(num):\n",
    "    if num <= 1:\n",
    "        return False\n",
    "    for i in range(2, int(num**0.5) + 1):\n",
    "        if num % i == 0:\n",
    "            return False\n",
    "    return True\n",
    "number = int(input(\"Enter a number: \"))\n",
    "if is_prime(number):\n",
    "    print(f\"{number} is a prime number.\")\n",
    "else:\n",
    "    print(f\"{number} is not a prime number.\")\n"
   ]
  },
  {
   "cell_type": "code",
   "execution_count": 16,
   "id": "725018f0",
   "metadata": {},
   "outputs": [
    {
     "name": "stdout",
     "output_type": "stream",
     "text": [
      "[10, 100, 1000, 1, 2, 3, 4, 5, 6]\n"
     ]
    }
   ],
   "source": [
    "a=[10,100,1000]\n",
    "b=[1,2,3,4,5,6]\n",
    "a.extend(b)\n",
    "print(a)"
   ]
  },
  {
   "cell_type": "code",
   "execution_count": 22,
   "id": "fc5a0806",
   "metadata": {},
   "outputs": [
    {
     "name": "stdout",
     "output_type": "stream",
     "text": [
      "dict_items([('name', 'a'), ('cls', 'b'), ('sec', 'c')])\n",
      "dict_keys(['name', 'cls', 'sec'])\n",
      "<class 'dict'>\n"
     ]
    }
   ],
   "source": [
    "dict={\"name\":\"a\",\"cls\":\"b\",\"sec\":\"c\"}\n",
    "print(dict.items())\n",
    "print(dict.keys())\n",
    "print(type(dict))"
   ]
  },
  {
   "cell_type": "code",
   "execution_count": 29,
   "id": "8a8d296d",
   "metadata": {},
   "outputs": [
    {
     "name": "stdout",
     "output_type": "stream",
     "text": [
      "Cart items:{'laptop': 50000, 'headphones': 2000, 'mouse': 500, 'keyboard': 1000, 'monitor': 20000, 'pendrive': 5000}\n",
      "Total price:70650.0\n"
     ]
    }
   ],
   "source": [
    "def cal_tot(cart):\n",
    "    tot=sum(cart.values())\n",
    "    \n",
    "    if len(cart)>5:\n",
    "        tot*=0.9\n",
    "    return tot \n",
    "\n",
    "print(f\"Cart items:{cart}\")\n",
    "print(f\"Total price:{cal_tot(cart)}\")\n",
    "cart={'laptop':50000,'headphones':2000,'mouse':500,'keyboard':1000,'monitor':20000,'pendrive':5000}\n"
   ]
  },
  {
   "cell_type": "code",
   "execution_count": 35,
   "id": "b6a4f59d",
   "metadata": {},
   "outputs": [
    {
     "name": "stdout",
     "output_type": "stream",
     "text": [
      "Cart items:{'laptop': 50000, 'headphones': 2000, 'mouse': 500, 'keyboard': 1000, 'monitor': 20000, 'pendrive': 5000}\n",
      "Total price:66725.0\n"
     ]
    }
   ],
   "source": [
    "def cal_tot(cart):\n",
    "    tot=sum(cart.values())\n",
    "    if 20000<tot<50000:\n",
    "        tot*=0.9\n",
    "    elif tot>=50000:\n",
    "        tot*=0.85\n",
    "    return tot\n",
    "print(f\"Cart items:{cart}\")\n",
    "print(f\"Total price:{cal_tot(cart)}\")\n",
    "cart={'laptop':50000,'headphones':2000,'mouse':35000,'keyboard':1500,'monitor':8000,'pendrive':1000}"
   ]
  },
  {
   "cell_type": "code",
   "execution_count": null,
   "id": "6d4d7869",
   "metadata": {},
   "outputs": [],
   "source": [
    "\n"
   ]
  }
 ],
 "metadata": {
  "kernelspec": {
   "display_name": "Python 3 (ipykernel)",
   "language": "python",
   "name": "python3"
  },
  "language_info": {
   "codemirror_mode": {
    "name": "ipython",
    "version": 3
   },
   "file_extension": ".py",
   "mimetype": "text/x-python",
   "name": "python",
   "nbconvert_exporter": "python",
   "pygments_lexer": "ipython3",
   "version": "3.11.5"
  }
 },
 "nbformat": 4,
 "nbformat_minor": 5
}
